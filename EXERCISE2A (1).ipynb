{
  "nbformat": 4,
  "nbformat_minor": 0,
  "metadata": {
    "colab": {
      "provenance": []
    },
    "kernelspec": {
      "name": "python3",
      "display_name": "Python 3"
    },
    "language_info": {
      "name": "python"
    }
  },
  "cells": [
    {
      "cell_type": "code",
      "execution_count": 4,
      "metadata": {
        "id": "VjXBo1ml0Gyk",
        "colab": {
          "base_uri": "https://localhost:8080/"
        },
        "outputId": "f85e5506-d0e4-465f-c75e-44509629bd51"
      },
      "outputs": [
        {
          "output_type": "stream",
          "name": "stdout",
          "text": [
            "Empty DataFrame\n",
            "Columns: []\n",
            "Index: []\n",
            "\n",
            "Series to Data frame\n",
            "\n",
            "       Emp   ID\n",
            "0   Parker  102\n",
            "1     John  107\n",
            "2    Smith  109\n",
            "3  William  114\n",
            "\n",
            "Extracting one column :\n",
            "\n",
            "0     Parker\n",
            "1       John\n",
            "2      Smith\n",
            "3    William\n",
            "Name: Emp, dtype: object\n",
            "\n",
            "Adding new column:\n",
            "\n",
            "       Emp   ID  Age\n",
            "0   Parker  102   35\n",
            "1     John  107   24\n",
            "2    Smith  109   40\n",
            "3  William  114   38\n",
            "\n",
            "Deleting one column:\n",
            "\n",
            "       Emp   ID\n",
            "0   Parker  102\n",
            "1     John  107\n",
            "2    Smith  109\n",
            "3  William  114\n",
            "\n",
            "Extracting the third row:\n",
            "\n",
            "Emp    Smith\n",
            "ID       109\n",
            "Name: 2, dtype: object\n",
            "\n",
            "Slice rows:\n",
            "      Emp   ID\n",
            "1   John  107\n",
            "2  Smith  109\n",
            "\n",
            "Adding new row values:\n",
            "        Emp   ID\n",
            "0   Parker  102\n",
            "1     John  107\n",
            "2    Smith  109\n",
            "3  William  114\n",
            "0     Dale  123\n",
            "1     Mark  143\n",
            "\n",
            "Deleting particular row:\n",
            "        Emp   ID\n",
            "0   Parker  102\n",
            "2    Smith  109\n",
            "3  William  114\n"
          ]
        }
      ],
      "source": [
        "import pandas as pd\n",
        "\n",
        "#empty data frame\n",
        "df=pd.DataFrame()\n",
        "print(df)\n",
        "\n",
        "emp = pd.Series(['Parker', 'John', 'Smith', 'William'])\n",
        "id=pd.Series([102, 107, 109, 114])\n",
        "frame = { 'Emp': emp, 'ID': id }\n",
        "result = pd.DataFrame(frame)\n",
        "print(\"\\nSeries to Data frame\\n\")\n",
        "print(result)\n",
        "print(\"\\nExtracting one column :\\n\")\n",
        "print(result['Emp'])\n",
        "print(\"\\nAdding new column:\\n\")\n",
        "result['Age']=pd.Series([35,24,40,38])\n",
        "print(result)\n",
        "print(\"\\nDeleting one column:\\n\")\n",
        "del result['Age']\n",
        "print(result)\n",
        "print(\"\\nExtracting the third row:\\n\")\n",
        "print(result.loc[2])\n",
        "print(\"\\nSlice rows:\\n\",result[1:3])\n",
        "d2 = pd.DataFrame([['Dale', 123], ['Mark', 143]], columns = ['Emp','ID'])\n",
        "print(\"\\nAdding new row values:\\n\",pd.concat(([result,d2])))\n",
        "print(\"\\nDeleting particular row:\\n\",result.drop(1))\n",
        "\n"
      ]
    }
  ]
}